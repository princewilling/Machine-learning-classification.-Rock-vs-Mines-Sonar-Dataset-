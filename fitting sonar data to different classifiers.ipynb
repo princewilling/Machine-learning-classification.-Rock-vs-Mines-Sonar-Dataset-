{
 "cells": [
  {
   "cell_type": "code",
   "execution_count": 1,
   "id": "eccef454",
   "metadata": {},
   "outputs": [],
   "source": [
    "import numpy as np\n",
    "import pandas as pd\n",
    "import matplotlib.pyplot as plt\n",
    "%matplotlib inline\n",
    "import seaborn as sns"
   ]
  },
  {
   "cell_type": "code",
   "execution_count": 2,
   "id": "a655c89d",
   "metadata": {},
   "outputs": [],
   "source": [
    "df = pd.read_csv('sonar_data.data', header=None)"
   ]
  },
  {
   "cell_type": "code",
   "execution_count": 3,
   "id": "1c63552a",
   "metadata": {},
   "outputs": [],
   "source": [
    "df.columns = ['feature0','feature1','feature02','feature3','feature4','feature5','feature6','feature7','feature8','feature9','feature10',\n",
    "              'feature11','feature12','feature13','feature14','feature15','feature16','feature17','feature18','feature19','feature20',\n",
    "              'feature21','feature22','feature23','feature24','feature25','feature26','feature27','feature28','feature29','feature30'\n",
    "             ,'feature31','feature32','feature33','feature34','feature35','feature36','feature37','feature38','feature39','feature40'\n",
    "             ,'feature41','feature42','feature43','feature44','feature45','feature46','feature47','feature48','feature49','feature50'\n",
    "             ,'feature51','feature52','feature53','feature54','feature55','feature56','feature57','feature58','feature59','class']"
   ]
  },
  {
   "cell_type": "code",
   "execution_count": 4,
   "id": "2a255b08",
   "metadata": {},
   "outputs": [],
   "source": [
    "from sklearn.preprocessing import LabelEncoder\n",
    "class_le = LabelEncoder()\n",
    "y = class_le.fit_transform(df['class'].values)"
   ]
  },
  {
   "cell_type": "code",
   "execution_count": 5,
   "id": "c1893dea",
   "metadata": {},
   "outputs": [],
   "source": [
    "X = df.iloc[:, 0:60].values"
   ]
  },
  {
   "cell_type": "code",
   "execution_count": 6,
   "id": "0e89248e",
   "metadata": {},
   "outputs": [],
   "source": [
    "#pd.DataFrame(X)"
   ]
  },
  {
   "cell_type": "code",
   "execution_count": 7,
   "id": "9ce8a1ec",
   "metadata": {},
   "outputs": [
    {
     "data": {
      "text/plain": [
       "array(['M', 'R'], dtype=object)"
      ]
     },
     "execution_count": 7,
     "metadata": {},
     "output_type": "execute_result"
    }
   ],
   "source": [
    "class_le.classes_"
   ]
  },
  {
   "cell_type": "code",
   "execution_count": 8,
   "id": "b93ec110",
   "metadata": {},
   "outputs": [
    {
     "data": {
      "text/plain": [
       "array([1, 0])"
      ]
     },
     "execution_count": 8,
     "metadata": {},
     "output_type": "execute_result"
    }
   ],
   "source": [
    "class_le.transform(['R', 'M'])"
   ]
  },
  {
   "cell_type": "code",
   "execution_count": 9,
   "id": "53fb7b8a",
   "metadata": {},
   "outputs": [],
   "source": [
    "from sklearn.model_selection import train_test_split\n",
    "X_train, X_test, y_train, y_test = train_test_split(X, y, test_size=0.25, random_state=1, stratify=y)"
   ]
  },
  {
   "cell_type": "code",
   "execution_count": 10,
   "id": "ae95fbc1",
   "metadata": {},
   "outputs": [],
   "source": [
    "from sklearn.preprocessing import StandardScaler\n",
    "stdsc = StandardScaler()\n",
    "X_train_std = stdsc.fit_transform(X_train)\n",
    "X_test_std = stdsc.transform(X_test)"
   ]
  },
  {
   "cell_type": "code",
   "execution_count": 11,
   "id": "fbb9ae4e",
   "metadata": {},
   "outputs": [],
   "source": [
    "from sklearn.linear_model import LogisticRegression\n",
    "lr = LogisticRegression()"
   ]
  },
  {
   "cell_type": "code",
   "execution_count": 12,
   "id": "145cdaa2",
   "metadata": {},
   "outputs": [
    {
     "name": "stdout",
     "output_type": "stream",
     "text": [
      "Training accuracy: 0.8397435897435898\n",
      "Test accuracy: 0.6538461538461539\n"
     ]
    }
   ],
   "source": [
    "lr.fit(X_train, y_train)\n",
    "print('Training accuracy:', lr.score(X_train, y_train))\n",
    "print('Test accuracy:', lr.score(X_test, y_test))"
   ]
  },
  {
   "cell_type": "markdown",
   "id": "d0ecb1d7",
   "metadata": {},
   "source": [
    "Standardize dataset"
   ]
  },
  {
   "cell_type": "code",
   "execution_count": 13,
   "id": "6a7939cb",
   "metadata": {},
   "outputs": [
    {
     "name": "stdout",
     "output_type": "stream",
     "text": [
      "Training accuracy: 0.9294871794871795\n",
      "Test accuracy: 0.6730769230769231\n"
     ]
    }
   ],
   "source": [
    "lr_ = LogisticRegression()\n",
    "lr_.fit(X_train_std, y_train)\n",
    "print('Training accuracy:', lr_.score(X_train_std, y_train))\n",
    "print('Test accuracy:', lr_.score(X_test_std, y_test))"
   ]
  },
  {
   "cell_type": "code",
   "execution_count": 14,
   "id": "54dbc821",
   "metadata": {},
   "outputs": [
    {
     "data": {
      "text/plain": [
       "SVC(C=1, random_state=1)"
      ]
     },
     "execution_count": 14,
     "metadata": {},
     "output_type": "execute_result"
    }
   ],
   "source": [
    "from sklearn.svm import SVC\n",
    "svm = SVC(kernel='rbf', C=1, random_state=1)##linear\n",
    "svm.fit(X_train_std, y_train)"
   ]
  },
  {
   "cell_type": "code",
   "execution_count": 15,
   "id": "b81344fc",
   "metadata": {},
   "outputs": [
    {
     "name": "stdout",
     "output_type": "stream",
     "text": [
      "Training accuracy: 0.9615384615384616\n",
      "Test accuracy: 0.7307692307692307\n"
     ]
    }
   ],
   "source": [
    "print('Training accuracy:', svm.score(X_train_std, y_train))\n",
    "print('Test accuracy:', svm.score(X_test_std, y_test))"
   ]
  },
  {
   "cell_type": "code",
   "execution_count": 16,
   "id": "a6bb4b85",
   "metadata": {},
   "outputs": [
    {
     "name": "stdout",
     "output_type": "stream",
     "text": [
      "Training accuracy: 0.9871794871794872\n",
      "Test accuracy: 0.8076923076923077\n"
     ]
    }
   ],
   "source": [
    "from sklearn.tree import DecisionTreeClassifier\n",
    "tree = DecisionTreeClassifier(criterion='gini', max_depth=5, random_state=1)\n",
    "tree.fit(X_train, y_train)\n",
    "\n",
    "print('Training accuracy:', tree.score(X_train, y_train))\n",
    "print('Test accuracy:', tree.score(X_test, y_test))"
   ]
  },
  {
   "cell_type": "code",
   "execution_count": null,
   "id": "3cee5538",
   "metadata": {},
   "outputs": [],
   "source": []
  }
 ],
 "metadata": {
  "kernelspec": {
   "display_name": "Python 3 (ipykernel)",
   "language": "python",
   "name": "python3"
  },
  "language_info": {
   "codemirror_mode": {
    "name": "ipython",
    "version": 3
   },
   "file_extension": ".py",
   "mimetype": "text/x-python",
   "name": "python",
   "nbconvert_exporter": "python",
   "pygments_lexer": "ipython3",
   "version": "3.8.10"
  }
 },
 "nbformat": 4,
 "nbformat_minor": 5
}
