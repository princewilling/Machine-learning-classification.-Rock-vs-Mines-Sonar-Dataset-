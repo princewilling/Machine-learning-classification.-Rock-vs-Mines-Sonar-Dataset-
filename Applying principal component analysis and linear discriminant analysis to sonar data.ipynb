{
 "cells": [
  {
   "cell_type": "code",
   "execution_count": 1,
   "id": "6d8bd6ea",
   "metadata": {},
   "outputs": [],
   "source": [
    "import pandas as pd\n",
    "import numpy as np\n",
    "import matplotlib.pyplot as plt"
   ]
  },
  {
   "cell_type": "code",
   "execution_count": 2,
   "id": "e0490cc0",
   "metadata": {},
   "outputs": [],
   "source": [
    "df = pd.read_csv('Data_set/sonar_data.data', header=None)"
   ]
  },
  {
   "cell_type": "code",
   "execution_count": 3,
   "id": "7f683330",
   "metadata": {},
   "outputs": [],
   "source": [
    "df.columns = ['feature0','feature1','feature02','feature3','feature4','feature5','feature6','feature7','feature8','feature9','feature10',\n",
    "              'feature11','feature12','feature13','feature14','feature15','feature16','feature17','feature18','feature19','feature20',\n",
    "              'feature21','feature22','feature23','feature24','feature25','feature26','feature27','feature28','feature29','feature30'\n",
    "             ,'feature31','feature32','feature33','feature34','feature35','feature36','feature37','feature38','feature39','feature40'\n",
    "             ,'feature41','feature42','feature43','feature44','feature45','feature46','feature47','feature48','feature49','feature50'\n",
    "             ,'feature51','feature52','feature53','feature54','feature55','feature56','feature57','feature58','feature59','class']"
   ]
  },
  {
   "cell_type": "code",
   "execution_count": 4,
   "id": "f8e062fe",
   "metadata": {},
   "outputs": [],
   "source": [
    "from sklearn.preprocessing import LabelEncoder\n",
    "class_le = LabelEncoder()\n",
    "y = class_le.fit_transform(df['class'].values)\n",
    "X = df.iloc[:, 0:60].values"
   ]
  },
  {
   "cell_type": "code",
   "execution_count": 5,
   "id": "500a24a9",
   "metadata": {},
   "outputs": [],
   "source": [
    "from sklearn.model_selection import train_test_split\n",
    "X_train, X_test, y_train, y_test = train_test_split(X, y, test_size=0.25, random_state=1, stratify=y)\n",
    "\n",
    "from sklearn.preprocessing import StandardScaler\n",
    "stdsc = StandardScaler()\n",
    "X_train_std = stdsc.fit_transform(X_train)\n",
    "X_test_std = stdsc.transform(X_test)"
   ]
  },
  {
   "cell_type": "code",
   "execution_count": 6,
   "id": "2d7642e2",
   "metadata": {},
   "outputs": [],
   "source": [
    "import numpy as np\n",
    "cov_mat_ = np.cov(X_train_std)\n",
    "cov_mat = np.cov(X_train_std.T)"
   ]
  },
  {
   "cell_type": "code",
   "execution_count": 7,
   "id": "a8749fa6",
   "metadata": {},
   "outputs": [
    {
     "data": {
      "text/plain": [
       "(60, 60)"
      ]
     },
     "execution_count": 7,
     "metadata": {},
     "output_type": "execute_result"
    }
   ],
   "source": [
    "cov_mat.shape"
   ]
  },
  {
   "cell_type": "code",
   "execution_count": 8,
   "id": "0a226204",
   "metadata": {},
   "outputs": [],
   "source": [
    "eigen_vals, eigen_vecs = np.linalg.eig(cov_mat)"
   ]
  },
  {
   "cell_type": "code",
   "execution_count": 9,
   "id": "6ca0743e",
   "metadata": {},
   "outputs": [
    {
     "data": {
      "text/plain": [
       "array([1.31866902e+01, 1.11027663e+01, 4.94073126e+00, 3.20543463e+00,\n",
       "       2.95152915e+00, 2.40743776e+00, 2.21897831e+00, 1.68571833e+00,\n",
       "       1.57812055e+00, 1.35430849e+00, 1.28202768e+00, 1.14388332e+00,\n",
       "       1.04077796e+00, 9.60721113e-01, 8.33430595e-01, 7.96101547e-01,\n",
       "       7.83342700e-01, 6.93603106e-01, 6.67953468e-01, 6.38501279e-01,\n",
       "       6.18326699e-01, 5.31203793e-01, 5.04167425e-01, 4.77811241e-01,\n",
       "       4.57619428e-01, 4.14314854e-01, 3.76691800e-01, 3.46617542e-01,\n",
       "       3.39166310e-01, 3.00978178e-01, 2.90771487e-01, 2.51089314e-01,\n",
       "       2.32783804e-01, 1.97776108e-01, 1.81763526e-01, 1.65756563e-01,\n",
       "       1.48643466e-01, 1.27910272e-01, 1.18143151e-01, 1.10776779e-01,\n",
       "       9.80204992e-02, 8.88491895e-02, 7.10862229e-02, 6.23212488e-02,\n",
       "       5.65768812e-02, 4.80828486e-02, 4.79451199e-03, 4.15706297e-02,\n",
       "       3.77315979e-02, 7.74260979e-03, 8.79824936e-03, 1.14828554e-02,\n",
       "       1.44748946e-02, 1.67479393e-02, 3.14827223e-02, 2.01419787e-02,\n",
       "       2.17090765e-02, 2.81340310e-02, 2.61765140e-02, 2.68028302e-02])"
      ]
     },
     "execution_count": 9,
     "metadata": {},
     "output_type": "execute_result"
    }
   ],
   "source": [
    "eigen_vals.shape\n",
    "eigen_vals"
   ]
  },
  {
   "cell_type": "code",
   "execution_count": 10,
   "id": "4e0e549d",
   "metadata": {},
   "outputs": [
    {
     "data": {
      "image/png": "[encoded data removed]",
      "text/plain": [
       "<Figure size 432x288 with 1 Axes>"
      ]
     },
     "metadata": {
      "needs_background": "light"
     },
     "output_type": "display_data"
    }
   ],
   "source": [
    "tot = sum(eigen_vals)\n",
    "var_exp = [(i / tot) for i in\n",
    "sorted(eigen_vals, reverse=True)]\n",
    "cum_var_exp = np.cumsum(var_exp)\n",
    "import matplotlib.pyplot as plt\n",
    "plt.bar(range(1,61), var_exp, alpha=0.5, align='center',\n",
    "label='individual explained variance')\n",
    "plt.step(range(1,61), cum_var_exp, where='mid',\n",
    "label='cumulative explained variance')\n",
    "plt.ylabel('Explained variance ratio')\n",
    "plt.xlabel('Principal component index')\n",
    "plt.legend(loc='best')\n",
    "plt.show()"
   ]
  },
  {
   "cell_type": "code",
   "execution_count": 11,
   "id": "fac3ac36",
   "metadata": {},
   "outputs": [
    {
     "name": "stdout",
     "output_type": "stream",
     "text": [
      "Matrix W:\n",
      " [[-0.12654467 -0.11333177]\n",
      " [-0.14385366 -0.11935218]\n",
      " [-0.12052598 -0.13572286]\n",
      " [-0.09886955 -0.17464577]\n",
      " [-0.03780587 -0.17129552]\n",
      " [-0.05080003 -0.15030954]\n",
      " [-0.0530062  -0.14815749]\n",
      " [-0.10841876 -0.14909731]\n",
      " [-0.09311071 -0.12974238]\n",
      " [-0.07839132 -0.12260793]\n",
      " [-0.05176591 -0.15517773]\n",
      " [-0.02626212 -0.12539484]\n",
      " [-0.011768   -0.17381617]\n",
      " [ 0.00136664 -0.22915186]\n",
      " [ 0.00842869 -0.2403556 ]\n",
      " [ 0.02362156 -0.23961617]\n",
      " [ 0.05640431 -0.21635188]\n",
      " [ 0.09319494 -0.2051498 ]\n",
      " [ 0.09793054 -0.20347382]\n",
      " [ 0.078242   -0.20256136]\n",
      " [ 0.0816013  -0.18142959]\n",
      " [ 0.1311497  -0.11837937]\n",
      " [ 0.1514228  -0.03515214]\n",
      " [ 0.15114727  0.02808466]\n",
      " [ 0.15237863  0.07720551]\n",
      " [ 0.14631599  0.10468134]\n",
      " [ 0.13074515  0.13194952]\n",
      " [ 0.05747181  0.16373819]\n",
      " [ 0.00571276  0.17962124]\n",
      " [-0.06602327  0.17667024]\n",
      " [-0.08615663  0.17796126]\n",
      " [-0.1108535   0.16866462]\n",
      " [-0.12683931  0.15623236]\n",
      " [-0.14637673  0.12540242]\n",
      " [-0.1606291   0.09715664]\n",
      " [-0.1609176   0.07586423]\n",
      " [-0.15064732  0.05421324]\n",
      " [-0.18399764  0.04432125]\n",
      " [-0.18190213  0.02372616]\n",
      " [-0.17491832  0.03546362]\n",
      " [-0.20755393  0.05055745]\n",
      " [-0.20384199  0.04686176]\n",
      " [-0.18930121  0.05698228]\n",
      " [-0.16663336  0.05554649]\n",
      " [-0.19587181  0.02938375]\n",
      " [-0.20024458  0.03630097]\n",
      " [-0.17304887  0.0365045 ]\n",
      " [-0.18481541  0.00112586]\n",
      " [-0.17692425 -0.02589586]\n",
      " [-0.15883243 -0.01626045]\n",
      " [-0.14808618 -0.06179676]\n",
      " [-0.13714858 -0.04910075]\n",
      " [-0.11826927 -0.06155554]\n",
      " [-0.11614883 -0.10733755]\n",
      " [-0.11815777 -0.10214293]\n",
      " [-0.11555354 -0.09899127]\n",
      " [-0.10293123 -0.08103311]\n",
      " [-0.12950791 -0.11661534]\n",
      " [-0.14367506 -0.10007815]\n",
      " [-0.12169043 -0.06113016]]\n"
     ]
    }
   ],
   "source": [
    "# Make a list of (eigenvalue, eigenvector) tuples\n",
    "eigen_pairs = [(np.abs(eigen_vals[i]), eigen_vecs[:, i])\n",
    "for i in range(len(eigen_vals))]\n",
    "# Sort the (eigenvalue, eigenvector) tuples from high to low\n",
    "eigen_pairs.sort(key=lambda k: k[0], reverse=True)\n",
    "w = np.hstack((eigen_pairs[0][1][:, np.newaxis], eigen_pairs[1][1][:, np.newaxis]))\n",
    "print('Matrix W:\\n', w)"
   ]
  },
  {
   "cell_type": "code",
   "execution_count": 12,
   "id": "41bf8ecf",
   "metadata": {},
   "outputs": [
    {
     "data": {
      "text/plain": [
       "array([-5.82194977,  5.34762023])"
      ]
     },
     "execution_count": 12,
     "metadata": {},
     "output_type": "execute_result"
    }
   ],
   "source": [
    "X_train_std[0].dot(w)"
   ]
  },
  {
   "cell_type": "code",
   "execution_count": 13,
   "id": "eb20710a",
   "metadata": {},
   "outputs": [],
   "source": [
    "X_train_pca = X_train_std.dot(w)"
   ]
  },
  {
   "cell_type": "code",
   "execution_count": 14,
   "id": "75d36496",
   "metadata": {},
   "outputs": [
    {
     "data": {
      "image/png": "[encoded data removed]",
      "text/plain": [
       "<Figure size 432x288 with 1 Axes>"
      ]
     },
     "metadata": {
      "needs_background": "light"
     },
     "output_type": "display_data"
    }
   ],
   "source": [
    "colors = ['r', 'b']\n",
    "markers = ['x', 'o']\n",
    "for l, c, m in zip(np.unique(y_train), colors, markers):\n",
    "    plt.scatter(X_train_pca[y_train==l, 0],\n",
    "                X_train_pca[y_train==l, 1],\n",
    "                c=c, label=l, marker=m)\n",
    "plt.xlabel('PC 1')\n",
    "plt.ylabel('PC 2')\n",
    "plt.legend(loc='lower left')\n",
    "plt.show()"
   ]
  },
  {
   "cell_type": "code",
   "execution_count": 15,
   "id": "e22d921f",
   "metadata": {},
   "outputs": [
    {
     "name": "stdout",
     "output_type": "stream",
     "text": [
      "Training accuracy: 0.8205128205128205\n",
      "Test accuracy: 0.6538461538461539\n"
     ]
    }
   ],
   "source": [
    "    \n",
    "from sklearn.linear_model import LogisticRegression\n",
    "from sklearn.decomposition import PCA\n",
    "pca = PCA(n_components=3)\n",
    "lr = LogisticRegression()\n",
    "X_train_pca = pca.fit_transform(X_train_std)\n",
    "X_test_pca = pca.transform(X_test_std)\n",
    "lr.fit(X_train_pca, y_train)\n",
    "\n",
    "print('Training accuracy:', lr.score(X_train_pca, y_train))\n",
    "print('Test accuracy:', lr.score(X_test_pca, y_test))"
   ]
  },
  {
   "cell_type": "code",
   "execution_count": 16,
   "id": "ab05113b",
   "metadata": {},
   "outputs": [
    {
     "name": "stdout",
     "output_type": "stream",
     "text": [
      "Training accuracy: 0.9038461538461539\n",
      "Test accuracy: 0.7307692307692307\n"
     ]
    }
   ],
   "source": [
    "from sklearn.svm import SVC\n",
    "svm = SVC(kernel='rbf', C=100, random_state=1)##linear\n",
    "svm.fit(X_train_pca, y_train)\n",
    "\n",
    "print('Training accuracy:', svm.score(X_train_pca, y_train))\n",
    "print('Test accuracy:', svm.score(X_test_pca, y_test))"
   ]
  },
  {
   "cell_type": "code",
   "execution_count": 17,
   "id": "446402d2",
   "metadata": {},
   "outputs": [
    {
     "name": "stdout",
     "output_type": "stream",
     "text": [
      "Training accuracy: 0.9102564102564102\n",
      "Test accuracy: 0.7115384615384616\n"
     ]
    }
   ],
   "source": [
    "from sklearn.tree import DecisionTreeClassifier\n",
    "tree = DecisionTreeClassifier(criterion='gini', max_depth=5, random_state=1)\n",
    "tree.fit(X_train_pca, y_train)\n",
    "\n",
    "print('Training accuracy:', tree.score(X_train_pca, y_train))\n",
    "print('Test accuracy:', tree.score(X_test_pca, y_test))"
   ]
  },
  {
   "cell_type": "code",
   "execution_count": 18,
   "id": "cc5a35d9",
   "metadata": {},
   "outputs": [
    {
     "name": "stdout",
     "output_type": "stream",
     "text": [
      "Training accuracy: 0.8717948717948718\n",
      "Test accuracy: 0.6923076923076923\n"
     ]
    }
   ],
   "source": [
    "from sklearn.neighbors import KNeighborsClassifier\n",
    "knn = KNeighborsClassifier(n_neighbors=5, p=2, metric='minkowski')\n",
    "knn.fit(X_train_pca, y_train)\n",
    "\n",
    "print('Training accuracy:', knn.score(X_train_pca, y_train))\n",
    "print('Test accuracy:', knn.score(X_test_pca, y_test))"
   ]
  },
  {
   "cell_type": "markdown",
   "id": "cda01bee",
   "metadata": {},
   "source": [
    "FROM THE ACCURACY SCORES SO FAR, IT APPEARS APPLYING PRINCIPAL COMPONENETS ANALYSIS ON OUR DATA DOSE NOT REALLY HELP IMPROVE PERFORMANCE OF THE CLASSIFIERS."
   ]
  },
  {
   "cell_type": "code",
   "execution_count": 24,
   "id": "d33d6d92",
   "metadata": {},
   "outputs": [],
   "source": [
    "from sklearn.decomposition import KernelPCA\n",
    "kpca = KernelPCA(n_components=3,kernel='rbf', gamma=15)\n",
    "\n",
    "X_train_kpca = kpca.fit_transform(X_train_std)\n",
    "X_test_kpca = kpca.transform(X_test_std)"
   ]
  },
  {
   "cell_type": "code",
   "execution_count": null,
   "id": "13511c45",
   "metadata": {},
   "outputs": [],
   "source": []
  },
  {
   "cell_type": "code",
   "execution_count": 22,
   "id": "26f27fd2",
   "metadata": {},
   "outputs": [
    {
     "name": "stdout",
     "output_type": "stream",
     "text": [
      "Training accuracy: 0.532051282051282\n",
      "Test accuracy: 0.5384615384615384\n"
     ]
    }
   ],
   "source": [
    "from sklearn.linear_model import LogisticRegression\n",
    "lr1 = LogisticRegression()\n",
    "lr1.fit(X_train_kpca, y_train)\n",
    "\n",
    "print('Training accuracy:', lr1.score(X_train_kpca, y_train))\n",
    "print('Test accuracy:', lr1.score(X_test_kpca, y_test))"
   ]
  },
  {
   "cell_type": "code",
   "execution_count": 26,
   "id": "954f3911",
   "metadata": {},
   "outputs": [
    {
     "name": "stdout",
     "output_type": "stream",
     "text": [
      "Training accuracy: 0.5961538461538461\n",
      "Test accuracy: 0.5384615384615384\n"
     ]
    }
   ],
   "source": [
    "from sklearn.svm import SVC\n",
    "svm1 = SVC(kernel='rbf', C=100, random_state=1)##linear\n",
    "svm1.fit(X_train_kpca, y_train)\n",
    "\n",
    "print('Training accuracy:', svm1.score(X_train_kpca, y_train))\n",
    "print('Test accuracy:', svm1.score(X_test_kpca, y_test))"
   ]
  },
  {
   "cell_type": "code",
   "execution_count": 1,
   "id": "5595e3ed",
   "metadata": {},
   "outputs": [],
   "source": [
    "#from sklearn.discriminant_analysis import LinearDiscriminantAnalysis as LDA\n",
    "#lda = LDA()\n",
    "#X_train_lda = lda.fit_transform(X_train_std, y_train)"
   ]
  },
  {
   "cell_type": "code",
   "execution_count": 42,
   "id": "f253ca0c",
   "metadata": {},
   "outputs": [],
   "source": [
    "#from sklearn.neighbors import KNeighborsClassifier\n",
    "#knn = KNeighborsClassifier()\n",
    "#knn.fit(X_train_lda, y_train)\n",
    "\n",
    "#print('Training accuracy:', knn.score(X_train_lda, y_train))\n",
    "#print('Test accuracy:', knn.score(X_test_lda, y_test))"
   ]
  },
  {
   "cell_type": "code",
   "execution_count": 43,
   "id": "1dc38867",
   "metadata": {},
   "outputs": [],
   "source": [
    "#from sklearn.tree import DecisionTreeClassifier\n",
    "#tree2 = DecisionTreeClassifier(criterion='gini', max_depth=5, random_state=1)\n",
    "#tree2.fit(X_train_lda, y_train)\n",
    "\n",
    "#print('Training accuracy:', tree2.score(X_train_lda, y_train))\n",
    "#print('Test accuracy:', tree2.score(X_test_lda, y_test))"
   ]
  },
  {
   "cell_type": "code",
   "execution_count": 44,
   "id": "0912c764",
   "metadata": {},
   "outputs": [],
   "source": [
    "#from sklearn.svm import SVC\n",
    "#svm2 = SVC(kernel='rbf', C=10, random_state=1)##linear\n",
    "#svm2.fit(X_train_lda, y_train)\n",
    "\n",
    "#print('Training accuracy:', svm2.score(X_train_lda, y_train))\n",
    "#print('Test accuracy:', svm2.score(X_test_lda, y_test))"
   ]
  },
  {
   "cell_type": "code",
   "execution_count": null,
   "id": "be5f665c",
   "metadata": {},
   "outputs": [],
   "source": []
  }
 ],
 "metadata": {
  "kernelspec": {
   "display_name": "Python 3 (ipykernel)",
   "language": "python",
   "name": "python3"
  },
  "language_info": {
   "codemirror_mode": {
    "name": "ipython",
    "version": 3
   },
   "file_extension": ".py",
   "mimetype": "text/x-python",
   "name": "python",
   "nbconvert_exporter": "python",
   "pygments_lexer": "ipython3",
   "version": "3.8.10"
  }
 },
 "nbformat": 4,
 "nbformat_minor": 5
}
