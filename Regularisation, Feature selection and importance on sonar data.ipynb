{
 "cells": [
  {
   "cell_type": "markdown",
   "id": "47ef7f65",
   "metadata": {},
   "source": [
    "Applying feature selection and importance to sonar data for insight "
   ]
  },
  {
   "cell_type": "code",
   "execution_count": 1,
   "id": "f8ca5958",
   "metadata": {},
   "outputs": [],
   "source": [
    "import numpy as np\n",
    "import pandas as pd\n",
    "import matplotlib.pyplot as plt\n",
    "%matplotlib inline\n",
    "import seaborn as sns"
   ]
  },
  {
   "cell_type": "code",
   "execution_count": 2,
   "id": "ef77de0d",
   "metadata": {},
   "outputs": [],
   "source": [
    "df = pd.read_csv('Data_set/sonar_data.data', header=None)"
   ]
  },
  {
   "cell_type": "code",
   "execution_count": 3,
   "id": "63a7f3d7",
   "metadata": {},
   "outputs": [],
   "source": [
    "df.columns = ['feature0','feature1','feature02','feature3','feature4','feature5','feature6','feature7','feature8','feature9','feature10',\n",
    "              'feature11','feature12','feature13','feature14','feature15','feature16','feature17','feature18','feature19','feature20',\n",
    "              'feature21','feature22','feature23','feature24','feature25','feature26','feature27','feature28','feature29','feature30'\n",
    "             ,'feature31','feature32','feature33','feature34','feature35','feature36','feature37','feature38','feature39','feature40'\n",
    "             ,'feature41','feature42','feature43','feature44','feature45','feature46','feature47','feature48','feature49','feature50'\n",
    "             ,'feature51','feature52','feature53','feature54','feature55','feature56','feature57','feature58','feature59','class']"
   ]
  },
  {
   "cell_type": "code",
   "execution_count": 4,
   "id": "806ba283",
   "metadata": {},
   "outputs": [],
   "source": [
    "from sklearn.preprocessing import LabelEncoder\n",
    "class_le = LabelEncoder()\n",
    "y = class_le.fit_transform(df['class'].values)\n",
    "X = df.iloc[:, 0:60].values"
   ]
  },
  {
   "cell_type": "code",
   "execution_count": 5,
   "id": "e7441903",
   "metadata": {},
   "outputs": [],
   "source": [
    "#pd.DataFrame(X)"
   ]
  },
  {
   "cell_type": "code",
   "execution_count": 6,
   "id": "5af4a411",
   "metadata": {},
   "outputs": [],
   "source": [
    "from sklearn.model_selection import train_test_split\n",
    "X_train, X_test, y_train, y_test = train_test_split(X, y, test_size=0.25, random_state=1, stratify=y)\n",
    "\n",
    "from sklearn.preprocessing import StandardScaler\n",
    "stdsc = StandardScaler()\n",
    "X_train_std = stdsc.fit_transform(X_train)\n",
    "X_test_std = stdsc.transform(X_test)"
   ]
  },
  {
   "cell_type": "code",
   "execution_count": 10,
   "id": "45ef73dd",
   "metadata": {},
   "outputs": [
    {
     "name": "stdout",
     "output_type": "stream",
     "text": [
      "Training accuracy: 0.8269230769230769\n",
      "Test accuracy: 0.6923076923076923\n"
     ]
    }
   ],
   "source": [
    "from sklearn.linear_model import LogisticRegression\n",
    "lr = LogisticRegression(penalty='l1', C=0.1, solver='liblinear', multi_class='auto')\n",
    "# Note that C=1.0 is the default. You can increase\n",
    "# or decrease it to make the regulariztion effect\n",
    "# stronger or weaker, respectively.\n",
    "lr.fit(X_train_std, y_train)\n",
    "print('Training accuracy:', lr.score(X_train_std, y_train))\n",
    "print('Test accuracy:', lr.score(X_test_std, y_test))\n"
   ]
  },
  {
   "cell_type": "code",
   "execution_count": 26,
   "id": "eaf0f476",
   "metadata": {},
   "outputs": [
    {
     "data": {
      "text/plain": [
       "SVC(C=100, random_state=1)"
      ]
     },
     "execution_count": 26,
     "metadata": {},
     "output_type": "execute_result"
    }
   ],
   "source": [
    "from sklearn.svm import SVC\n",
    "svm = SVC(kernel='rbf', C=100, random_state=1)##linear\n",
    "svm.fit(X_train_std, y_train)"
   ]
  },
  {
   "cell_type": "code",
   "execution_count": 27,
   "id": "61e5950e",
   "metadata": {},
   "outputs": [
    {
     "name": "stdout",
     "output_type": "stream",
     "text": [
      "Training accuracy: 1.0\n",
      "Test accuracy: 0.8846153846153846\n"
     ]
    }
   ],
   "source": [
    "print('Training accuracy:', svm.score(X_train_std, y_train))\n",
    "print('Test accuracy:', svm.score(X_test_std, y_test))"
   ]
  },
  {
   "cell_type": "code",
   "execution_count": 62,
   "id": "196cd847",
   "metadata": {},
   "outputs": [
    {
     "name": "stdout",
     "output_type": "stream",
     "text": [
      "Training accuracy: 1.0\n",
      "Test accuracy: 0.8269230769230769\n"
     ]
    }
   ],
   "source": [
    "from sklearn.tree import DecisionTreeClassifier\n",
    "tree = DecisionTreeClassifier(criterion='gini', max_depth=6, random_state=1)\n",
    "tree.fit(X_train, y_train)\n",
    "\n",
    "print('Training accuracy:', tree.score(X_train, y_train))\n",
    "print('Test accuracy:', tree.score(X_test, y_test))"
   ]
  },
  {
   "cell_type": "code",
   "execution_count": 65,
   "id": "63b47c2f",
   "metadata": {},
   "outputs": [
    {
     "name": "stdout",
     "output_type": "stream",
     "text": [
      "Training accuracy: 1.0\n",
      "Test accuracy: 0.75\n"
     ]
    }
   ],
   "source": [
    "from sklearn.ensemble import RandomForestClassifier\n",
    "forest1 = RandomForestClassifier(criterion='gini', n_estimators=20, random_state=1, n_jobs=2)\n",
    "forest1.fit(X_train, y_train)\n",
    "\n",
    "print('Training accuracy:', forest1.score(X_train, y_train))\n",
    "print('Test accuracy:', forest1.score(X_test, y_test))"
   ]
  },
  {
   "cell_type": "code",
   "execution_count": 34,
   "id": "4a3ee030",
   "metadata": {},
   "outputs": [
    {
     "name": "stdout",
     "output_type": "stream",
     "text": [
      "Training accuracy: 0.8653846153846154\n",
      "Test accuracy: 0.8461538461538461\n"
     ]
    }
   ],
   "source": [
    "from sklearn.neighbors import KNeighborsClassifier\n",
    "knn = KNeighborsClassifier(n_neighbors=5, p=2, metric='minkowski')\n",
    "knn.fit(X_train_std, y_train)\n",
    "\n",
    "print('Training accuracy:', knn.score(X_train_std, y_train))\n",
    "print('Test accuracy:', knn.score(X_test_std, y_test))"
   ]
  },
  {
   "cell_type": "code",
   "execution_count": null,
   "id": "77eafdda",
   "metadata": {},
   "outputs": [],
   "source": []
  },
  {
   "cell_type": "code",
   "execution_count": 32,
   "id": "bf793d06",
   "metadata": {},
   "outputs": [],
   "source": [
    "from sklearn.base import clone\n",
    "from itertools import combinations\n",
    "import numpy as np\n",
    "from sklearn.metrics import accuracy_score\n",
    "from sklearn.model_selection import train_test_split"
   ]
  },
  {
   "cell_type": "code",
   "execution_count": 33,
   "id": "de74d085",
   "metadata": {},
   "outputs": [],
   "source": [
    "class SBS():\n",
    "    def __init__(self, estimator, k_features, scoring=accuracy_score,\n",
    "                 test_size=0.25, random_state=1):\n",
    "        self.scoring = scoring\n",
    "        self.estimator = clone(estimator)\n",
    "        self.k_features = k_features\n",
    "        self.test_size = test_size\n",
    "        self.random_state = random_state\n",
    "\n",
    "    def fit(self, X, y):\n",
    "        \n",
    "        X_train, X_test, y_train, y_test = train_test_split(X, y, test_size=self.test_size,\n",
    "                                                            random_state=self.random_state)\n",
    "        dim = X_train.shape[1]\n",
    "        self.indices_ = tuple(range(dim))\n",
    "        self.subsets_ = [self.indices_]\n",
    "        score = self._calc_score(X_train, y_train, \n",
    "                                 X_test, y_test, self.indices_)\n",
    "        self.scores_ = [score]\n",
    "\n",
    "        while dim > self.k_features:\n",
    "            scores = []\n",
    "            subsets = []\n",
    "\n",
    "            for p in combinations(self.indices_, r=dim - 1):\n",
    "                score = self._calc_score(X_train, y_train, \n",
    "                                         X_test, y_test, p)\n",
    "                scores.append(score)\n",
    "                subsets.append(p)\n",
    "\n",
    "            best = np.argmax(scores)\n",
    "            self.indices_ = subsets[best]\n",
    "            self.subsets_.append(self.indices_)\n",
    "            dim -= 1\n",
    "\n",
    "            self.scores_.append(scores[best])\n",
    "        self.k_score_ = self.scores_[-1]\n",
    "\n",
    "        return self\n",
    "\n",
    "    def transform(self, X):\n",
    "        return X[:, self.indices_]\n",
    "\n",
    "    def _calc_score(self, X_train, y_train, X_test, y_test, indices):\n",
    "        self.estimator.fit(X_train[:, indices], y_train)\n",
    "        y_pred = self.estimator.predict(X_test[:, indices])\n",
    "        score = self.scoring(y_test, y_pred)\n",
    "        return score\n"
   ]
  },
  {
   "cell_type": "code",
   "execution_count": 42,
   "id": "08938acb",
   "metadata": {},
   "outputs": [
    {
     "data": {
      "image/png": "[encoded data removed]",
      "text/plain": [
       "<Figure size 432x288 with 1 Axes>"
      ]
     },
     "metadata": {
      "needs_background": "light"
     },
     "output_type": "display_data"
    }
   ],
   "source": [
    "import matplotlib.pyplot as plt\n",
    "from sklearn.neighbors import KNeighborsClassifier\n",
    "knn = KNeighborsClassifier(n_neighbors=5)\n",
    "sbs = SBS(knn, k_features=1)\n",
    "sbs.fit(X_train_std, y_train)\n",
    "\n",
    "k_feat = [len(k) for k in sbs.subsets_]\n",
    "plt.plot(k_feat, sbs.scores_, marker='x')\n",
    "plt.ylim([0.8, 1.02])\n",
    "plt.ylabel('Accuracy')\n",
    "plt.xlabel('Number of features')\n",
    "plt.grid()\n",
    "plt.show()"
   ]
  },
  {
   "cell_type": "code",
   "execution_count": 49,
   "id": "a7ac054f",
   "metadata": {},
   "outputs": [],
   "source": [
    "#k3 = list(sbs.subsets_[13])\n",
    "#print(df.columns[1:][k3])"
   ]
  },
  {
   "cell_type": "code",
   "execution_count": 52,
   "id": "37334ee8",
   "metadata": {},
   "outputs": [
    {
     "name": "stdout",
     "output_type": "stream",
     "text": [
      " 1) feature10                      0.060631\n",
      " 2) feature8                       0.057836\n",
      " 3) feature48                      0.050147\n",
      " 4) feature9                       0.047315\n",
      " 5) feature47                      0.046966\n",
      " 6) feature11                      0.045884\n",
      " 7) feature44                      0.032995\n",
      " 8) feature46                      0.028523\n",
      " 9) feature35                      0.028407\n",
      "10) feature51                      0.025338\n",
      "11) feature45                      0.023392\n",
      "12) feature36                      0.021605\n",
      "13) feature20                      0.019885\n",
      "14) feature12                      0.019234\n",
      "15) feature43                      0.017284\n",
      "16) feature50                      0.016996\n",
      "17) feature27                      0.016131\n",
      "18) feature3                       0.015760\n",
      "19) feature16                      0.015568\n",
      "20) feature19                      0.013755\n",
      "21) feature26                      0.013708\n",
      "22) feature4                       0.013690\n",
      "23) feature15                      0.013263\n",
      "24) feature28                      0.012785\n",
      "25) feature42                      0.012749\n",
      "26) feature25                      0.012732\n",
      "27) feature34                      0.012726\n",
      "28) feature5                       0.012629\n",
      "29) feature21                      0.012559\n",
      "30) feature17                      0.011881\n",
      "31) feature38                      0.011488\n",
      "32) feature22                      0.011319\n",
      "33) feature33                      0.010641\n",
      "34) feature6                       0.010385\n",
      "35) feature7                       0.010219\n",
      "36) feature40                      0.010209\n",
      "37) feature13                      0.010096\n",
      "38) feature53                      0.009989\n",
      "39) feature29                      0.009709\n",
      "40) feature14                      0.009650\n",
      "41) feature58                      0.009600\n",
      "42) feature32                      0.009582\n",
      "43) feature39                      0.009542\n",
      "44) feature23                      0.009437\n",
      "45) feature41                      0.009136\n",
      "46) feature0                       0.009008\n",
      "47) feature59                      0.008912\n",
      "48) feature24                      0.008692\n",
      "49) feature49                      0.008478\n",
      "50) feature57                      0.008411\n",
      "51) feature54                      0.008405\n",
      "52) feature18                      0.008399\n",
      "53) feature30                      0.008066\n",
      "54) feature1                       0.007832\n",
      "55) feature55                      0.007729\n",
      "56) feature31                      0.007727\n",
      "57) feature02                      0.007347\n",
      "58) feature37                      0.006596\n",
      "59) feature56                      0.005700\n",
      "60) feature52                      0.005324\n"
     ]
    },
    {
     "data": {
      "text/plain": [
       "(-1.0, 60.0)"
      ]
     },
     "execution_count": 52,
     "metadata": {},
     "output_type": "execute_result"
    },
    {
     "data": {
      "image/png": "[encoded data removed]",
      "text/plain": [
       "<Figure size 432x288 with 1 Axes>"
      ]
     },
     "metadata": {
      "needs_background": "light"
     },
     "output_type": "display_data"
    }
   ],
   "source": [
    "from sklearn.ensemble import RandomForestClassifier\n",
    "feat_labels = df.columns[0:60]\n",
    "forest_ = RandomForestClassifier(n_estimators=500, random_state=1)\n",
    "forest_.fit(X_train, y_train)\n",
    "\n",
    "importances = forest_.feature_importances_\n",
    "indices = np.argsort(importances)[::-1]\n",
    "\n",
    "for f in range(X_train.shape[1]):\n",
    "    print(\"%2d) %-*s %f\" % (f + 1, 30,\n",
    "                            feat_labels[indices[f]],\n",
    "                            importances[indices[f]]))\n",
    "\n",
    "    \n",
    "plt.title('Feature Importance')\n",
    "plt.bar(range(X_train.shape[1]),\n",
    "\n",
    "importances[indices], align='center')\n",
    "\n",
    "plt.xticks(range(X_train.shape[1]),\n",
    "           feat_labels, rotation=90)\n",
    "plt.xlim([-1, X_train.shape[1]])"
   ]
  },
  {
   "cell_type": "code",
   "execution_count": null,
   "id": "cf307be7",
   "metadata": {},
   "outputs": [],
   "source": []
  }
 ],
 "metadata": {
  "kernelspec": {
   "display_name": "Python 3 (ipykernel)",
   "language": "python",
   "name": "python3"
  },
  "language_info": {
   "codemirror_mode": {
    "name": "ipython",
    "version": 3
   },
   "file_extension": ".py",
   "mimetype": "text/x-python",
   "name": "python",
   "nbconvert_exporter": "python",
   "pygments_lexer": "ipython3",
   "version": "3.8.10"
  }
 },
 "nbformat": 4,
 "nbformat_minor": 5
}
